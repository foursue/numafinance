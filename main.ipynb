{
 "metadata": {
  "language_info": {
   "codemirror_mode": {
    "name": "ipython",
    "version": 3
   },
   "file_extension": ".py",
   "mimetype": "text/x-python",
   "name": "python",
   "nbconvert_exporter": "python",
   "pygments_lexer": "ipython3",
   "version": "3.7.8-final"
  },
  "orig_nbformat": 2,
  "kernelspec": {
   "name": "python3",
   "display_name": "Python 3",
   "language": "python"
  }
 },
 "nbformat": 4,
 "nbformat_minor": 2,
 "cells": [
  {
   "cell_type": "code",
   "execution_count": 1,
   "metadata": {},
   "outputs": [
    {
     "output_type": "stream",
     "name": "stdout",
     "text": [
      "                  Open        High         Low       Close     Volume  \\\nDate                                                                    \n1980-12-12    0.101087    0.101526    0.101087    0.101087  469033600   \n1980-12-15    0.096252    0.096252    0.095813    0.095813  175884800   \n1980-12-16    0.089220    0.089220    0.088780    0.088780  105728000   \n1980-12-17    0.090978    0.091418    0.090978    0.090978   86441600   \n1980-12-18    0.093615    0.094055    0.093615    0.093615   73449600   \n...                ...         ...         ...         ...        ...   \n2020-12-18  128.960007  129.100006  126.120003  126.660004  192541500   \n2020-12-21  125.019997  128.309998  123.449997  128.229996  121251600   \n2020-12-22  131.610001  134.410004  129.649994  131.880005  168904800   \n2020-12-23  132.160004  132.429993  130.779999  130.960007   88223700   \n2020-12-24  131.320007  133.460007  131.100006  131.970001   54930100   \n\n            Dividends  Stock Splits  \nDate                                 \n1980-12-12        0.0           0.0  \n1980-12-15        0.0           0.0  \n1980-12-16        0.0           0.0  \n1980-12-17        0.0           0.0  \n1980-12-18        0.0           0.0  \n...               ...           ...  \n2020-12-18        0.0           0.0  \n2020-12-21        0.0           0.0  \n2020-12-22        0.0           0.0  \n2020-12-23        0.0           0.0  \n2020-12-24        0.0           0.0  \n\n[10095 rows x 7 columns]\n"
     ]
    }
   ],
   "source": [
    "import yfinance as yf\n",
    "\n",
    "ticker = yf.Ticker(\"AAPL\")\n",
    "hist = ticker.history(period=\"max\")\n",
    "print(hist)\n"
   ]
  },
  {
   "cell_type": "code",
   "execution_count": 2,
   "metadata": {},
   "outputs": [
    {
     "output_type": "stream",
     "name": "stdout",
     "text": [
      "                                            2020-09-26      2019-09-28  \\\nResearch Development                     18752000000.0   16217000000.0   \nEffect Of Accounting Charges                      None            None   \nIncome Before Tax                        67091000000.0   65737000000.0   \nMinority Interest                                 None            None   \nNet Income                               57411000000.0   55256000000.0   \nSelling General Administrative           19916000000.0   18245000000.0   \nGross Profit                            104956000000.0   98392000000.0   \nEbit                                     66288000000.0   63930000000.0   \nOperating Income                         66288000000.0   63930000000.0   \nOther Operating Expenses                          None            None   \nInterest Expense                         -2873000000.0   -3576000000.0   \nExtraordinary Items                               None            None   \nNon Recurring                                     None            None   \nOther Items                                       None            None   \nIncome Tax Expense                        9680000000.0   10481000000.0   \nTotal Revenue                           274515000000.0  260174000000.0   \nTotal Operating Expenses                208227000000.0  196244000000.0   \nCost Of Revenue                         169559000000.0  161782000000.0   \nTotal Other Income Expense Net             803000000.0    1807000000.0   \nDiscontinued Operations                           None            None   \nNet Income From Continuing Ops           57411000000.0   55256000000.0   \nNet Income Applicable To Common Shares   57411000000.0   55256000000.0   \n\n                                            2018-09-29      2017-09-30  \nResearch Development                     14236000000.0   11581000000.0  \nEffect Of Accounting Charges                      None            None  \nIncome Before Tax                        72903000000.0   64089000000.0  \nMinority Interest                                 None            None  \nNet Income                               59531000000.0   48351000000.0  \nSelling General Administrative           16705000000.0   15261000000.0  \nGross Profit                            101839000000.0   88186000000.0  \nEbit                                     70898000000.0   61344000000.0  \nOperating Income                         70898000000.0   61344000000.0  \nOther Operating Expenses                          None            None  \nInterest Expense                         -3240000000.0   -2323000000.0  \nExtraordinary Items                               None            None  \nNon Recurring                                     None            None  \nOther Items                                       None            None  \nIncome Tax Expense                       13372000000.0   15738000000.0  \nTotal Revenue                           265595000000.0  229234000000.0  \nTotal Operating Expenses                194697000000.0  167890000000.0  \nCost Of Revenue                         163756000000.0  141048000000.0  \nTotal Other Income Expense Net            2005000000.0    2745000000.0  \nDiscontinued Operations                           None            None  \nNet Income From Continuing Ops           59531000000.0   48351000000.0  \nNet Income Applicable To Common Shares   59531000000.0   48351000000.0  \n"
     ]
    }
   ],
   "source": [
    "# 損益計算書\n",
    "financials = ticker.financials\n",
    "print(financials)"
   ]
  },
  {
   "cell_type": "code",
   "execution_count": 30,
   "metadata": {},
   "outputs": [
    {
     "output_type": "stream",
     "name": "stdout",
     "text": [
      "Empty DataFrame\nColumns: [Open, High, Low, Close, Adj Close, Volume]\nIndex: []\n"
     ]
    }
   ],
   "source": [
    "# 貸借対照表（バランスシート）\n",
    "balance_sheet = ticker.balance_sheet\n",
    "print(balance_sheet)\n"
   ]
  },
  {
   "cell_type": "code",
   "execution_count": 31,
   "metadata": {},
   "outputs": [
    {
     "output_type": "stream",
     "name": "stdout",
     "text": [
      "Empty DataFrame\nColumns: [Open, High, Low, Close, Adj Close, Volume]\nIndex: []\n"
     ]
    }
   ],
   "source": [
    "# キャッシュフロー計算書\n",
    "cashflow = ticker.cashflow\n",
    "print(cashflow)"
   ]
  },
  {
   "cell_type": "code",
   "execution_count": 32,
   "metadata": {},
   "outputs": [
    {
     "output_type": "stream",
     "name": "stdout",
     "text": [
      "{'zip': '95014', 'sector': 'Technology', 'fullTimeEmployees': 147000, 'longBusinessSummary': 'Apple Inc. designs, manufactures, and markets smartphones, personal computers, tablets, wearables, and accessories worldwide. It also sells various related services. The company offers iPhone, a line of smartphones; Mac, a line of personal computers; iPad, a line of multi-purpose tablets; and wearables, home, and accessories comprising AirPods, Apple TV, Apple Watch, Beats products, HomePod, iPod touch, and other Apple-branded and third-party accessories. It also provides AppleCare support services; cloud services store services; and operates various platforms, including the App Store, that allow customers to discover and download applications and digital content, such as books, music, video, games, and podcasts. In addition, the company offers various services, such as Apple Arcade, a game subscription service; Apple Music, which offers users a curated listening experience with on-demand radio stations; Apple News+, a subscription news and magazine service; Apple TV+, which offers exclusive original content; Apple Card, a co-branded credit card; and Apple Pay, a cashless payment service, as well as licenses its intellectual property. The company serves consumers, and small and mid-sized businesses; and the education, enterprise, and government markets. It sells and delivers third-party applications for its products through the App Store. The company also sells its products through its retail and online stores, and direct sales force; and third-party cellular network carriers, wholesalers, retailers, and resellers. Apple Inc. was founded in 1977 and is headquartered in Cupertino, California.', 'city': 'Cupertino', 'phone': '408-996-1010', 'state': 'CA', 'country': 'United States', 'companyOfficers': [], 'website': 'http://www.apple.com', 'maxAge': 1, 'address1': 'One Apple Park Way', 'industry': 'Consumer Electronics', 'previousClose': 130.96, 'regularMarketOpen': 131.32, 'twoHundredDayAverage': 111.11393, 'trailingAnnualDividendYield': 0.0060705557, 'payoutRatio': 0.24239999, 'volume24Hr': None, 'regularMarketDayHigh': 133.46, 'navPrice': None, 'averageDailyVolume10Day': 116917157, 'totalAssets': None, 'regularMarketPreviousClose': 130.96, 'fiftyDayAverage': 121.93382, 'trailingAnnualDividendRate': 0.795, 'open': 131.32, 'toCurrency': None, 'averageVolume10days': 116917157, 'expireDate': None, 'yield': None, 'algorithm': None, 'dividendRate': 0.82, 'exDividendDate': 1604620800, 'beta': 1.297637, 'circulatingSupply': None, 'startDate': None, 'regularMarketDayLow': 131.1, 'priceHint': 2, 'currency': 'USD', 'trailingPE': 40.234756, 'regularMarketVolume': 54930064, 'lastMarket': None, 'maxSupply': None, 'openInterest': None, 'marketCap': 2243727458304, 'volumeAllCurrencies': None, 'strikePrice': None, 'averageVolume': 115550452, 'priceToSalesTrailing12Months': 8.173424, 'dayLow': 131.1, 'ask': 131.96, 'ytdReturn': None, 'askSize': 800, 'volume': 54930064, 'fiftyTwoWeekHigh': 137.98, 'forwardPE': 30.407833, 'fromCurrency': None, 'fiveYearAvgDividendYield': 1.49, 'fiftyTwoWeekLow': 53.1525, 'bid': 131.93, 'tradeable': False, 'dividendYield': 0.0062, 'bidSize': 1800, 'dayHigh': 133.46, 'exchange': 'NMS', 'shortName': 'Apple Inc.', 'longName': 'Apple Inc.', 'exchangeTimezoneName': 'America/New_York', 'exchangeTimezoneShortName': 'EST', 'isEsgPopulated': False, 'gmtOffSetMilliseconds': '-18000000', 'quoteType': 'EQUITY', 'symbol': 'AAPL', 'messageBoardId': 'finmb_24937', 'market': 'us_market', 'annualHoldingsTurnover': None, 'enterpriseToRevenue': 8.288, 'beta3Year': None, 'profitMargins': 0.20914, 'enterpriseToEbitda': 29.415, '52WeekChange': 0.81078494, 'morningStarRiskRating': None, 'forwardEps': 4.34, 'revenueQuarterlyGrowth': None, 'sharesOutstanding': 17102499840, 'fundInceptionDate': None, 'annualReportExpenseRatio': None, 'bookValue': 3.849, 'sharesShort': 94721417, 'sharesPercentSharesOut': 0.0056, 'fundFamily': None, 'lastFiscalYearEnd': 1601078400, 'heldPercentInstitutions': 0.59706, 'netIncomeToCommon': 57410998272, 'trailingEps': 3.28, 'lastDividendValue': 0.205, 'SandP52WeekChange': 0.14955807, 'priceToBook': 34.286827, 'heldPercentInsiders': 0.00066, 'nextFiscalYearEnd': 1664150400, 'mostRecentQuarter': 1601078400, 'shortRatio': 1, 'sharesShortPreviousMonthDate': 1605225600, 'floatShares': 16984460162, 'enterpriseValue': 2275062841344, 'threeYearAverageReturn': None, 'lastSplitDate': 1598832000, 'lastSplitFactor': '4:1', 'legalType': None, 'lastDividendDate': 1604620800, 'morningStarOverallRating': None, 'earningsQuarterlyGrowth': -0.074, 'dateShortInterest': 1607990400, 'pegRatio': 2.63, 'lastCapGain': None, 'shortPercentOfFloat': 0.0056, 'sharesShortPriorMonth': 87564487, 'impliedSharesOutstanding': None, 'category': None, 'fiveYearAverageReturn': None, 'regularMarketPrice': 131.32, 'logo_url': 'https://logo.clearbit.com/apple.com'}\n"
     ]
    }
   ],
   "source": [
    "# 銘柄のサマリー\n",
    "info = ticker.info\n",
    "print(info)\n"
   ]
  },
  {
   "cell_type": "code",
   "execution_count": 19,
   "metadata": {},
   "outputs": [
    {
     "output_type": "stream",
     "name": "stdout",
     "text": [
      "              Open    High     Low   Close    Volume  Dividends  Stock Splits\nDate                                                                         \n2020-11-25  7500.0  7524.0  7322.0  7350.0   6694700          0             0\n2020-11-26  7280.0  7320.0  7264.0  7301.0   4532000          0             0\n2020-11-27  7300.0  7327.0  7188.0  7252.0   7455800          0             0\n2020-11-30  7268.0  7279.0  6999.0  6999.0   9354500          0             0\n2020-12-01  7111.0  7151.0  6980.0  7018.0   6286300          0             0\n2020-12-02  7158.0  7169.0  7050.0  7079.0   6882300          0             0\n2020-12-03  7179.0  7202.0  7118.0  7164.0   6345800          0             0\n2020-12-04  7115.0  7219.0  7109.0  7181.0   4737200          0             0\n2020-12-07  7250.0  7263.0  7168.0  7204.0   4520700          0             0\n2020-12-08  7160.0  7228.0  7122.0  7199.0   4134400          0             0\n2020-12-09  7247.0  7365.0  7233.0  7349.0   5707100          0             0\n2020-12-10  7403.0  7498.0  7384.0  7480.0   6541600          0             0\n2020-12-11  7602.0  7820.0  7583.0  7820.0  15705200          0             0\n2020-12-14  7850.0  7998.0  7815.0  7952.0   9071400          0             0\n2020-12-15  7928.0  7965.0  7865.0  7905.0   4805100          0             0\n2020-12-16  7950.0  8016.0  7930.0  7980.0   5911100          0             0\n2020-12-17  8001.0  8045.0  7967.0  8000.0   5017100          0             0\n2020-12-18  7950.0  7969.0  7888.0  7911.0   6862200          0             0\n2020-12-21  7922.0  7929.0  7789.0  7850.0   4742400          0             0\n2020-12-22  7790.0  7859.0  7730.0  7777.0   3891800          0             0\n2020-12-23  7790.0  7815.0  7701.0  7720.0   3548800          0             0\n2020-12-24  7806.0  7815.0  7725.0  7743.0   2735200          0             0\n2020-12-25  7760.0  7797.0  7750.0  7789.0   1993300          0             0\n"
     ]
    }
   ],
   "source": [
    "# 複数銘柄の取得\n",
    "tickers = yf.Tickers(\"7203.T 9984.T 6861.T\")\n",
    "hists = []\n",
    "\n",
    "for i in range(len(tickers.tickers)):\n",
    "    hists.append(tickers.tickers[i].history())\n",
    "\n",
    "print(hists[0])"
   ]
  },
  {
   "cell_type": "code",
   "execution_count": 17,
   "metadata": {},
   "outputs": [
    {
     "output_type": "stream",
     "name": "stdout",
     "text": [
      "                 JPY=X  EURUSD=X  GBPUSD=X\nDate                                      \n1996-10-30  114.180000       NaN       NaN\n1996-11-01  113.500000       NaN       NaN\n1996-11-04  113.879997       NaN       NaN\n1996-11-05  114.250000       NaN       NaN\n1996-11-06  113.949997       NaN       NaN\n...                ...       ...       ...\n2020-12-21  103.457001  1.221613  1.340195\n2020-12-22  103.339996  1.223691  1.344954\n2020-12-23  103.533997  1.218665  1.339944\n2020-12-24  103.552002  1.219141  1.350530\n2020-12-25  103.653000  1.218472  1.355201\n\n[6277 rows x 3 columns]\n"
     ]
    }
   ],
   "source": [
    "import pandas as pd\n",
    "\n",
    "fxs = [\"JPY=X\", \"EURUSD=X\", \"GBPUSD=X\"]\n",
    "tickers = yf.Tickers(\" \".join(fxs))\n",
    "\n",
    "closes = []\n",
    "for i in range(len(tickers.tickers)):\n",
    "    closes.append(tickers.tickers[i].history(period=\"max\").Close)\n",
    "\n",
    "df = pd.DataFrame(closes).T\n",
    "df.columns = fxs\n",
    "\n",
    "print(df)"
   ]
  },
  {
   "cell_type": "code",
   "execution_count": null,
   "metadata": {},
   "outputs": [],
   "source": []
  }
 ]
}