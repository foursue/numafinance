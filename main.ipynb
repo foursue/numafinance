{
 "metadata": {
  "language_info": {
   "codemirror_mode": {
    "name": "ipython",
    "version": 3
   },
   "file_extension": ".py",
   "mimetype": "text/x-python",
   "name": "python",
   "nbconvert_exporter": "python",
   "pygments_lexer": "ipython3",
   "version": "3.7.8-final"
  },
  "orig_nbformat": 2,
  "kernelspec": {
   "name": "python3",
   "display_name": "Python 3",
   "language": "python"
  }
 },
 "nbformat": 4,
 "nbformat_minor": 2,
 "cells": [
  {
   "cell_type": "code",
   "execution_count": 1,
   "metadata": {},
   "outputs": [
    {
     "output_type": "stream",
     "name": "stdout",
     "text": [
      "                   Open         High          Low        Close   Volume  \\\nDate                                                                      \n1999-05-06  2296.554421  2375.519043  2270.232880  2375.519043  3115000   \n1999-05-07  2362.359368  2368.939756  2270.233933  2289.975098  3033000   \n1999-05-10  2289.974429  2316.295974  2270.233270  2283.394043  1261000   \n1999-05-11  2303.135646  2316.296421  2263.653320  2263.653320  1686000   \n1999-05-12  2263.652215  2303.134521  2263.652215  2303.134521  2596000   \n...                 ...          ...          ...          ...      ...   \n2020-12-21  7922.000000  7929.000000  7789.000000  7850.000000  4742400   \n2020-12-22  7790.000000  7859.000000  7730.000000  7777.000000  3891800   \n2020-12-23  7790.000000  7815.000000  7701.000000  7720.000000  3548800   \n2020-12-24  7806.000000  7815.000000  7725.000000  7743.000000  2735200   \n2020-12-25  7760.000000  7797.000000  7750.000000  7789.000000  1993300   \n\n            Dividends  Stock Splits  \nDate                                 \n1999-05-06        0.0             0  \n1999-05-07        0.0             0  \n1999-05-10        0.0             0  \n1999-05-11        0.0             0  \n1999-05-12        0.0             0  \n...               ...           ...  \n2020-12-21        0.0             0  \n2020-12-22        0.0             0  \n2020-12-23        0.0             0  \n2020-12-24        0.0             0  \n2020-12-25        0.0             0  \n\n[5356 rows x 7 columns]\n"
     ]
    }
   ],
   "source": [
    "import yfinance as yf\n",
    "\n",
    "ticker = yf.Ticker(\"7203.T\")\n",
    "hist = ticker.history(period=\"max\")\n",
    "print(hist)\n"
   ]
  },
  {
   "cell_type": "code",
   "execution_count": null,
   "metadata": {},
   "outputs": [],
   "source": []
  }
 ]
}