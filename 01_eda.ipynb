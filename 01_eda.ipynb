{
 "metadata": {
  "language_info": {
   "codemirror_mode": {
    "name": "ipython",
    "version": 3
   },
   "file_extension": ".py",
   "mimetype": "text/x-python",
   "name": "python",
   "nbconvert_exporter": "python",
   "pygments_lexer": "ipython3",
   "version": "3.7.8-final"
  },
  "orig_nbformat": 2,
  "kernelspec": {
   "name": "python3",
   "display_name": "Python 3",
   "language": "python"
  }
 },
 "nbformat": 4,
 "nbformat_minor": 2,
 "cells": [
  {
   "cell_type": "code",
   "execution_count": 1,
   "metadata": {},
   "outputs": [],
   "source": [
    "import yfinance as yf\n",
    "import pandas as pd"
   ]
  },
  {
   "cell_type": "code",
   "execution_count": 2,
   "metadata": {},
   "outputs": [],
   "source": [
    "# 凍傷のエクセルを読み込み\n",
    "df = pd.read_excel('data/toushou/data_j.xls')\n",
    "# print(df)\n",
    "\n",
    "# 構成区分を一覧に出してみる\n",
    "# kibo_group = df.groupby('規模区分')\n",
    "# print(kibo_group.count())\n",
    "\n",
    "# TOPIX Core30 に絞り込み\n",
    "core30 = df.query('規模区分 == \"TOPIX Core30\"').rename(columns={'コード':'code'})\n",
    "# print(core30)\n",
    "# コードの一覧を出力する\n",
    "core30.to_csv('data/toushou/code_core30.csv', columns=['code'], index=False)"
   ]
  },
  {
   "cell_type": "code",
   "execution_count": 3,
   "metadata": {},
   "outputs": [
    {
     "output_type": "error",
     "ename": "ConnectionError",
     "evalue": "HTTPSConnectionPool(host='query1.finance.yahoo.com', port=443): Max retries exceeded with url: /v8/finance/chart/8001.T?period1=-2208988800&period2=1609081559&interval=1d&includePrePost=False&events=div%2Csplits (Caused by NewConnectionError('<urllib3.connection.HTTPSConnection object at 0x11c92cdd0>: Failed to establish a new connection: [Errno 65] No route to host'))",
     "traceback": [
      "\u001b[0;31m---------------------------------------------------------------------------\u001b[0m",
      "\u001b[0;31mOSError\u001b[0m                                   Traceback (most recent call last)",
      "\u001b[0;32m~/projects/numafinance/.venv/lib/python3.7/site-packages/urllib3/connection.py\u001b[0m in \u001b[0;36m_new_conn\u001b[0;34m(self)\u001b[0m\n\u001b[1;32m    169\u001b[0m             conn = connection.create_connection(\n\u001b[0;32m--> 170\u001b[0;31m                 \u001b[0;34m(\u001b[0m\u001b[0mself\u001b[0m\u001b[0;34m.\u001b[0m\u001b[0m_dns_host\u001b[0m\u001b[0;34m,\u001b[0m \u001b[0mself\u001b[0m\u001b[0;34m.\u001b[0m\u001b[0mport\u001b[0m\u001b[0;34m)\u001b[0m\u001b[0;34m,\u001b[0m \u001b[0mself\u001b[0m\u001b[0;34m.\u001b[0m\u001b[0mtimeout\u001b[0m\u001b[0;34m,\u001b[0m \u001b[0;34m**\u001b[0m\u001b[0mextra_kw\u001b[0m\u001b[0;34m\u001b[0m\u001b[0;34m\u001b[0m\u001b[0m\n\u001b[0m\u001b[1;32m    171\u001b[0m             )\n",
      "\u001b[0;32m~/projects/numafinance/.venv/lib/python3.7/site-packages/urllib3/util/connection.py\u001b[0m in \u001b[0;36mcreate_connection\u001b[0;34m(address, timeout, source_address, socket_options)\u001b[0m\n\u001b[1;32m     95\u001b[0m     \u001b[0;32mif\u001b[0m \u001b[0merr\u001b[0m \u001b[0;32mis\u001b[0m \u001b[0;32mnot\u001b[0m \u001b[0;32mNone\u001b[0m\u001b[0;34m:\u001b[0m\u001b[0;34m\u001b[0m\u001b[0;34m\u001b[0m\u001b[0m\n\u001b[0;32m---> 96\u001b[0;31m         \u001b[0;32mraise\u001b[0m \u001b[0merr\u001b[0m\u001b[0;34m\u001b[0m\u001b[0;34m\u001b[0m\u001b[0m\n\u001b[0m\u001b[1;32m     97\u001b[0m \u001b[0;34m\u001b[0m\u001b[0m\n",
      "\u001b[0;32m~/projects/numafinance/.venv/lib/python3.7/site-packages/urllib3/util/connection.py\u001b[0m in \u001b[0;36mcreate_connection\u001b[0;34m(address, timeout, source_address, socket_options)\u001b[0m\n\u001b[1;32m     85\u001b[0m                 \u001b[0msock\u001b[0m\u001b[0;34m.\u001b[0m\u001b[0mbind\u001b[0m\u001b[0;34m(\u001b[0m\u001b[0msource_address\u001b[0m\u001b[0;34m)\u001b[0m\u001b[0;34m\u001b[0m\u001b[0;34m\u001b[0m\u001b[0m\n\u001b[0;32m---> 86\u001b[0;31m             \u001b[0msock\u001b[0m\u001b[0;34m.\u001b[0m\u001b[0mconnect\u001b[0m\u001b[0;34m(\u001b[0m\u001b[0msa\u001b[0m\u001b[0;34m)\u001b[0m\u001b[0;34m\u001b[0m\u001b[0;34m\u001b[0m\u001b[0m\n\u001b[0m\u001b[1;32m     87\u001b[0m             \u001b[0;32mreturn\u001b[0m \u001b[0msock\u001b[0m\u001b[0;34m\u001b[0m\u001b[0;34m\u001b[0m\u001b[0m\n",
      "\u001b[0;31mOSError\u001b[0m: [Errno 65] No route to host",
      "\nDuring handling of the above exception, another exception occurred:\n",
      "\u001b[0;31mNewConnectionError\u001b[0m                        Traceback (most recent call last)",
      "\u001b[0;32m~/projects/numafinance/.venv/lib/python3.7/site-packages/urllib3/connectionpool.py\u001b[0m in \u001b[0;36murlopen\u001b[0;34m(self, method, url, body, headers, retries, redirect, assert_same_host, timeout, pool_timeout, release_conn, chunked, body_pos, **response_kw)\u001b[0m\n\u001b[1;32m    705\u001b[0m                 \u001b[0mheaders\u001b[0m\u001b[0;34m=\u001b[0m\u001b[0mheaders\u001b[0m\u001b[0;34m,\u001b[0m\u001b[0;34m\u001b[0m\u001b[0;34m\u001b[0m\u001b[0m\n\u001b[0;32m--> 706\u001b[0;31m                 \u001b[0mchunked\u001b[0m\u001b[0;34m=\u001b[0m\u001b[0mchunked\u001b[0m\u001b[0;34m,\u001b[0m\u001b[0;34m\u001b[0m\u001b[0;34m\u001b[0m\u001b[0m\n\u001b[0m\u001b[1;32m    707\u001b[0m             )\n",
      "\u001b[0;32m~/projects/numafinance/.venv/lib/python3.7/site-packages/urllib3/connectionpool.py\u001b[0m in \u001b[0;36m_make_request\u001b[0;34m(self, conn, method, url, timeout, chunked, **httplib_request_kw)\u001b[0m\n\u001b[1;32m    381\u001b[0m         \u001b[0;32mtry\u001b[0m\u001b[0;34m:\u001b[0m\u001b[0;34m\u001b[0m\u001b[0;34m\u001b[0m\u001b[0m\n\u001b[0;32m--> 382\u001b[0;31m             \u001b[0mself\u001b[0m\u001b[0;34m.\u001b[0m\u001b[0m_validate_conn\u001b[0m\u001b[0;34m(\u001b[0m\u001b[0mconn\u001b[0m\u001b[0;34m)\u001b[0m\u001b[0;34m\u001b[0m\u001b[0;34m\u001b[0m\u001b[0m\n\u001b[0m\u001b[1;32m    383\u001b[0m         \u001b[0;32mexcept\u001b[0m \u001b[0;34m(\u001b[0m\u001b[0mSocketTimeout\u001b[0m\u001b[0;34m,\u001b[0m \u001b[0mBaseSSLError\u001b[0m\u001b[0;34m)\u001b[0m \u001b[0;32mas\u001b[0m \u001b[0me\u001b[0m\u001b[0;34m:\u001b[0m\u001b[0;34m\u001b[0m\u001b[0;34m\u001b[0m\u001b[0m\n",
      "\u001b[0;32m~/projects/numafinance/.venv/lib/python3.7/site-packages/urllib3/connectionpool.py\u001b[0m in \u001b[0;36m_validate_conn\u001b[0;34m(self, conn)\u001b[0m\n\u001b[1;32m   1009\u001b[0m         \u001b[0;32mif\u001b[0m \u001b[0;32mnot\u001b[0m \u001b[0mgetattr\u001b[0m\u001b[0;34m(\u001b[0m\u001b[0mconn\u001b[0m\u001b[0;34m,\u001b[0m \u001b[0;34m\"sock\"\u001b[0m\u001b[0;34m,\u001b[0m \u001b[0;32mNone\u001b[0m\u001b[0;34m)\u001b[0m\u001b[0;34m:\u001b[0m  \u001b[0;31m# AppEngine might not have  `.sock`\u001b[0m\u001b[0;34m\u001b[0m\u001b[0;34m\u001b[0m\u001b[0m\n\u001b[0;32m-> 1010\u001b[0;31m             \u001b[0mconn\u001b[0m\u001b[0;34m.\u001b[0m\u001b[0mconnect\u001b[0m\u001b[0;34m(\u001b[0m\u001b[0;34m)\u001b[0m\u001b[0;34m\u001b[0m\u001b[0;34m\u001b[0m\u001b[0m\n\u001b[0m\u001b[1;32m   1011\u001b[0m \u001b[0;34m\u001b[0m\u001b[0m\n",
      "\u001b[0;32m~/projects/numafinance/.venv/lib/python3.7/site-packages/urllib3/connection.py\u001b[0m in \u001b[0;36mconnect\u001b[0;34m(self)\u001b[0m\n\u001b[1;32m    352\u001b[0m         \u001b[0;31m# Add certificate verification\u001b[0m\u001b[0;34m\u001b[0m\u001b[0;34m\u001b[0m\u001b[0;34m\u001b[0m\u001b[0m\n\u001b[0;32m--> 353\u001b[0;31m         \u001b[0mconn\u001b[0m \u001b[0;34m=\u001b[0m \u001b[0mself\u001b[0m\u001b[0;34m.\u001b[0m\u001b[0m_new_conn\u001b[0m\u001b[0;34m(\u001b[0m\u001b[0;34m)\u001b[0m\u001b[0;34m\u001b[0m\u001b[0;34m\u001b[0m\u001b[0m\n\u001b[0m\u001b[1;32m    354\u001b[0m         \u001b[0mhostname\u001b[0m \u001b[0;34m=\u001b[0m \u001b[0mself\u001b[0m\u001b[0;34m.\u001b[0m\u001b[0mhost\u001b[0m\u001b[0;34m\u001b[0m\u001b[0;34m\u001b[0m\u001b[0m\n",
      "\u001b[0;32m~/projects/numafinance/.venv/lib/python3.7/site-packages/urllib3/connection.py\u001b[0m in \u001b[0;36m_new_conn\u001b[0;34m(self)\u001b[0m\n\u001b[1;32m    181\u001b[0m             raise NewConnectionError(\n\u001b[0;32m--> 182\u001b[0;31m                 \u001b[0mself\u001b[0m\u001b[0;34m,\u001b[0m \u001b[0;34m\"Failed to establish a new connection: %s\"\u001b[0m \u001b[0;34m%\u001b[0m \u001b[0me\u001b[0m\u001b[0;34m\u001b[0m\u001b[0;34m\u001b[0m\u001b[0m\n\u001b[0m\u001b[1;32m    183\u001b[0m             )\n",
      "\u001b[0;31mNewConnectionError\u001b[0m: <urllib3.connection.HTTPSConnection object at 0x11c92cdd0>: Failed to establish a new connection: [Errno 65] No route to host",
      "\nDuring handling of the above exception, another exception occurred:\n",
      "\u001b[0;31mMaxRetryError\u001b[0m                             Traceback (most recent call last)",
      "\u001b[0;32m~/projects/numafinance/.venv/lib/python3.7/site-packages/requests/adapters.py\u001b[0m in \u001b[0;36msend\u001b[0;34m(self, request, stream, timeout, verify, cert, proxies)\u001b[0m\n\u001b[1;32m    448\u001b[0m                     \u001b[0mretries\u001b[0m\u001b[0;34m=\u001b[0m\u001b[0mself\u001b[0m\u001b[0;34m.\u001b[0m\u001b[0mmax_retries\u001b[0m\u001b[0;34m,\u001b[0m\u001b[0;34m\u001b[0m\u001b[0;34m\u001b[0m\u001b[0m\n\u001b[0;32m--> 449\u001b[0;31m                     \u001b[0mtimeout\u001b[0m\u001b[0;34m=\u001b[0m\u001b[0mtimeout\u001b[0m\u001b[0;34m\u001b[0m\u001b[0;34m\u001b[0m\u001b[0m\n\u001b[0m\u001b[1;32m    450\u001b[0m                 )\n",
      "\u001b[0;32m~/projects/numafinance/.venv/lib/python3.7/site-packages/urllib3/connectionpool.py\u001b[0m in \u001b[0;36murlopen\u001b[0;34m(self, method, url, body, headers, retries, redirect, assert_same_host, timeout, pool_timeout, release_conn, chunked, body_pos, **response_kw)\u001b[0m\n\u001b[1;32m    755\u001b[0m             retries = retries.increment(\n\u001b[0;32m--> 756\u001b[0;31m                 \u001b[0mmethod\u001b[0m\u001b[0;34m,\u001b[0m \u001b[0murl\u001b[0m\u001b[0;34m,\u001b[0m \u001b[0merror\u001b[0m\u001b[0;34m=\u001b[0m\u001b[0me\u001b[0m\u001b[0;34m,\u001b[0m \u001b[0m_pool\u001b[0m\u001b[0;34m=\u001b[0m\u001b[0mself\u001b[0m\u001b[0;34m,\u001b[0m \u001b[0m_stacktrace\u001b[0m\u001b[0;34m=\u001b[0m\u001b[0msys\u001b[0m\u001b[0;34m.\u001b[0m\u001b[0mexc_info\u001b[0m\u001b[0;34m(\u001b[0m\u001b[0;34m)\u001b[0m\u001b[0;34m[\u001b[0m\u001b[0;36m2\u001b[0m\u001b[0;34m]\u001b[0m\u001b[0;34m\u001b[0m\u001b[0;34m\u001b[0m\u001b[0m\n\u001b[0m\u001b[1;32m    757\u001b[0m             )\n",
      "\u001b[0;32m~/projects/numafinance/.venv/lib/python3.7/site-packages/urllib3/util/retry.py\u001b[0m in \u001b[0;36mincrement\u001b[0;34m(self, method, url, response, error, _pool, _stacktrace)\u001b[0m\n\u001b[1;32m    572\u001b[0m         \u001b[0;32mif\u001b[0m \u001b[0mnew_retry\u001b[0m\u001b[0;34m.\u001b[0m\u001b[0mis_exhausted\u001b[0m\u001b[0;34m(\u001b[0m\u001b[0;34m)\u001b[0m\u001b[0;34m:\u001b[0m\u001b[0;34m\u001b[0m\u001b[0;34m\u001b[0m\u001b[0m\n\u001b[0;32m--> 573\u001b[0;31m             \u001b[0;32mraise\u001b[0m \u001b[0mMaxRetryError\u001b[0m\u001b[0;34m(\u001b[0m\u001b[0m_pool\u001b[0m\u001b[0;34m,\u001b[0m \u001b[0murl\u001b[0m\u001b[0;34m,\u001b[0m \u001b[0merror\u001b[0m \u001b[0;32mor\u001b[0m \u001b[0mResponseError\u001b[0m\u001b[0;34m(\u001b[0m\u001b[0mcause\u001b[0m\u001b[0;34m)\u001b[0m\u001b[0;34m)\u001b[0m\u001b[0;34m\u001b[0m\u001b[0;34m\u001b[0m\u001b[0m\n\u001b[0m\u001b[1;32m    574\u001b[0m \u001b[0;34m\u001b[0m\u001b[0m\n",
      "\u001b[0;31mMaxRetryError\u001b[0m: HTTPSConnectionPool(host='query1.finance.yahoo.com', port=443): Max retries exceeded with url: /v8/finance/chart/8001.T?period1=-2208988800&period2=1609081559&interval=1d&includePrePost=False&events=div%2Csplits (Caused by NewConnectionError('<urllib3.connection.HTTPSConnection object at 0x11c92cdd0>: Failed to establish a new connection: [Errno 65] No route to host'))",
      "\nDuring handling of the above exception, another exception occurred:\n",
      "\u001b[0;31mConnectionError\u001b[0m                           Traceback (most recent call last)",
      "\u001b[0;32m<ipython-input-3-09f5ce068a7a>\u001b[0m in \u001b[0;36m<module>\u001b[0;34m\u001b[0m\n\u001b[1;32m      9\u001b[0m \u001b[0;34m\u001b[0m\u001b[0m\n\u001b[1;32m     10\u001b[0m \u001b[0;32mfor\u001b[0m \u001b[0mi\u001b[0m \u001b[0;32min\u001b[0m \u001b[0mrange\u001b[0m\u001b[0;34m(\u001b[0m\u001b[0mlen\u001b[0m\u001b[0;34m(\u001b[0m\u001b[0mtickers\u001b[0m\u001b[0;34m.\u001b[0m\u001b[0mtickers\u001b[0m\u001b[0;34m)\u001b[0m\u001b[0;34m)\u001b[0m\u001b[0;34m:\u001b[0m\u001b[0;34m\u001b[0m\u001b[0;34m\u001b[0m\u001b[0m\n\u001b[0;32m---> 11\u001b[0;31m     \u001b[0mcloses\u001b[0m\u001b[0;34m.\u001b[0m\u001b[0mappend\u001b[0m\u001b[0;34m(\u001b[0m\u001b[0mtickers\u001b[0m\u001b[0;34m.\u001b[0m\u001b[0mtickers\u001b[0m\u001b[0;34m[\u001b[0m\u001b[0mi\u001b[0m\u001b[0;34m]\u001b[0m\u001b[0;34m.\u001b[0m\u001b[0mhistory\u001b[0m\u001b[0;34m(\u001b[0m\u001b[0mperiod\u001b[0m\u001b[0;34m=\u001b[0m\u001b[0;34m\"max\"\u001b[0m\u001b[0;34m)\u001b[0m\u001b[0;34m.\u001b[0m\u001b[0mClose\u001b[0m\u001b[0;34m)\u001b[0m\u001b[0;34m\u001b[0m\u001b[0;34m\u001b[0m\u001b[0m\n\u001b[0m\u001b[1;32m     12\u001b[0m \u001b[0;34m\u001b[0m\u001b[0m\n\u001b[1;32m     13\u001b[0m \u001b[0mcloses\u001b[0m \u001b[0;34m=\u001b[0m \u001b[0mpd\u001b[0m\u001b[0;34m.\u001b[0m\u001b[0mDataFrame\u001b[0m\u001b[0;34m(\u001b[0m\u001b[0mcloses\u001b[0m\u001b[0;34m)\u001b[0m\u001b[0;34m.\u001b[0m\u001b[0mT\u001b[0m   \u001b[0;31m# DataFrame化\u001b[0m\u001b[0;34m\u001b[0m\u001b[0;34m\u001b[0m\u001b[0m\n",
      "\u001b[0;32m~/projects/numafinance/.venv/lib/python3.7/site-packages/yfinance/base.py\u001b[0m in \u001b[0;36mhistory\u001b[0;34m(self, period, interval, start, end, prepost, actions, auto_adjust, back_adjust, proxy, rounding, tz, **kwargs)\u001b[0m\n\u001b[1;32m    149\u001b[0m         \u001b[0;31m# Getting data from json\u001b[0m\u001b[0;34m\u001b[0m\u001b[0;34m\u001b[0m\u001b[0;34m\u001b[0m\u001b[0m\n\u001b[1;32m    150\u001b[0m         \u001b[0murl\u001b[0m \u001b[0;34m=\u001b[0m \u001b[0;34m\"{}/v8/finance/chart/{}\"\u001b[0m\u001b[0;34m.\u001b[0m\u001b[0mformat\u001b[0m\u001b[0;34m(\u001b[0m\u001b[0mself\u001b[0m\u001b[0;34m.\u001b[0m\u001b[0m_base_url\u001b[0m\u001b[0;34m,\u001b[0m \u001b[0mself\u001b[0m\u001b[0;34m.\u001b[0m\u001b[0mticker\u001b[0m\u001b[0;34m)\u001b[0m\u001b[0;34m\u001b[0m\u001b[0;34m\u001b[0m\u001b[0m\n\u001b[0;32m--> 151\u001b[0;31m         \u001b[0mdata\u001b[0m \u001b[0;34m=\u001b[0m \u001b[0m_requests\u001b[0m\u001b[0;34m.\u001b[0m\u001b[0mget\u001b[0m\u001b[0;34m(\u001b[0m\u001b[0murl\u001b[0m\u001b[0;34m=\u001b[0m\u001b[0murl\u001b[0m\u001b[0;34m,\u001b[0m \u001b[0mparams\u001b[0m\u001b[0;34m=\u001b[0m\u001b[0mparams\u001b[0m\u001b[0;34m,\u001b[0m \u001b[0mproxies\u001b[0m\u001b[0;34m=\u001b[0m\u001b[0mproxy\u001b[0m\u001b[0;34m)\u001b[0m\u001b[0;34m\u001b[0m\u001b[0;34m\u001b[0m\u001b[0m\n\u001b[0m\u001b[1;32m    152\u001b[0m         \u001b[0;32mif\u001b[0m \u001b[0;34m\"Will be right back\"\u001b[0m \u001b[0;32min\u001b[0m \u001b[0mdata\u001b[0m\u001b[0;34m.\u001b[0m\u001b[0mtext\u001b[0m\u001b[0;34m:\u001b[0m\u001b[0;34m\u001b[0m\u001b[0;34m\u001b[0m\u001b[0m\n\u001b[1;32m    153\u001b[0m             raise RuntimeError(\"*** YAHOO! FINANCE IS CURRENTLY DOWN! ***\\n\"\n",
      "\u001b[0;32m~/projects/numafinance/.venv/lib/python3.7/site-packages/requests/api.py\u001b[0m in \u001b[0;36mget\u001b[0;34m(url, params, **kwargs)\u001b[0m\n\u001b[1;32m     74\u001b[0m \u001b[0;34m\u001b[0m\u001b[0m\n\u001b[1;32m     75\u001b[0m     \u001b[0mkwargs\u001b[0m\u001b[0;34m.\u001b[0m\u001b[0msetdefault\u001b[0m\u001b[0;34m(\u001b[0m\u001b[0;34m'allow_redirects'\u001b[0m\u001b[0;34m,\u001b[0m \u001b[0;32mTrue\u001b[0m\u001b[0;34m)\u001b[0m\u001b[0;34m\u001b[0m\u001b[0;34m\u001b[0m\u001b[0m\n\u001b[0;32m---> 76\u001b[0;31m     \u001b[0;32mreturn\u001b[0m \u001b[0mrequest\u001b[0m\u001b[0;34m(\u001b[0m\u001b[0;34m'get'\u001b[0m\u001b[0;34m,\u001b[0m \u001b[0murl\u001b[0m\u001b[0;34m,\u001b[0m \u001b[0mparams\u001b[0m\u001b[0;34m=\u001b[0m\u001b[0mparams\u001b[0m\u001b[0;34m,\u001b[0m \u001b[0;34m**\u001b[0m\u001b[0mkwargs\u001b[0m\u001b[0;34m)\u001b[0m\u001b[0;34m\u001b[0m\u001b[0;34m\u001b[0m\u001b[0m\n\u001b[0m\u001b[1;32m     77\u001b[0m \u001b[0;34m\u001b[0m\u001b[0m\n\u001b[1;32m     78\u001b[0m \u001b[0;34m\u001b[0m\u001b[0m\n",
      "\u001b[0;32m~/projects/numafinance/.venv/lib/python3.7/site-packages/requests/api.py\u001b[0m in \u001b[0;36mrequest\u001b[0;34m(method, url, **kwargs)\u001b[0m\n\u001b[1;32m     59\u001b[0m     \u001b[0;31m# cases, and look like a memory leak in others.\u001b[0m\u001b[0;34m\u001b[0m\u001b[0;34m\u001b[0m\u001b[0;34m\u001b[0m\u001b[0m\n\u001b[1;32m     60\u001b[0m     \u001b[0;32mwith\u001b[0m \u001b[0msessions\u001b[0m\u001b[0;34m.\u001b[0m\u001b[0mSession\u001b[0m\u001b[0;34m(\u001b[0m\u001b[0;34m)\u001b[0m \u001b[0;32mas\u001b[0m \u001b[0msession\u001b[0m\u001b[0;34m:\u001b[0m\u001b[0;34m\u001b[0m\u001b[0;34m\u001b[0m\u001b[0m\n\u001b[0;32m---> 61\u001b[0;31m         \u001b[0;32mreturn\u001b[0m \u001b[0msession\u001b[0m\u001b[0;34m.\u001b[0m\u001b[0mrequest\u001b[0m\u001b[0;34m(\u001b[0m\u001b[0mmethod\u001b[0m\u001b[0;34m=\u001b[0m\u001b[0mmethod\u001b[0m\u001b[0;34m,\u001b[0m \u001b[0murl\u001b[0m\u001b[0;34m=\u001b[0m\u001b[0murl\u001b[0m\u001b[0;34m,\u001b[0m \u001b[0;34m**\u001b[0m\u001b[0mkwargs\u001b[0m\u001b[0;34m)\u001b[0m\u001b[0;34m\u001b[0m\u001b[0;34m\u001b[0m\u001b[0m\n\u001b[0m\u001b[1;32m     62\u001b[0m \u001b[0;34m\u001b[0m\u001b[0m\n\u001b[1;32m     63\u001b[0m \u001b[0;34m\u001b[0m\u001b[0m\n",
      "\u001b[0;32m~/projects/numafinance/.venv/lib/python3.7/site-packages/requests/sessions.py\u001b[0m in \u001b[0;36mrequest\u001b[0;34m(self, method, url, params, data, headers, cookies, files, auth, timeout, allow_redirects, proxies, hooks, stream, verify, cert, json)\u001b[0m\n\u001b[1;32m    540\u001b[0m         }\n\u001b[1;32m    541\u001b[0m         \u001b[0msend_kwargs\u001b[0m\u001b[0;34m.\u001b[0m\u001b[0mupdate\u001b[0m\u001b[0;34m(\u001b[0m\u001b[0msettings\u001b[0m\u001b[0;34m)\u001b[0m\u001b[0;34m\u001b[0m\u001b[0;34m\u001b[0m\u001b[0m\n\u001b[0;32m--> 542\u001b[0;31m         \u001b[0mresp\u001b[0m \u001b[0;34m=\u001b[0m \u001b[0mself\u001b[0m\u001b[0;34m.\u001b[0m\u001b[0msend\u001b[0m\u001b[0;34m(\u001b[0m\u001b[0mprep\u001b[0m\u001b[0;34m,\u001b[0m \u001b[0;34m**\u001b[0m\u001b[0msend_kwargs\u001b[0m\u001b[0;34m)\u001b[0m\u001b[0;34m\u001b[0m\u001b[0;34m\u001b[0m\u001b[0m\n\u001b[0m\u001b[1;32m    543\u001b[0m \u001b[0;34m\u001b[0m\u001b[0m\n\u001b[1;32m    544\u001b[0m         \u001b[0;32mreturn\u001b[0m \u001b[0mresp\u001b[0m\u001b[0;34m\u001b[0m\u001b[0;34m\u001b[0m\u001b[0m\n",
      "\u001b[0;32m~/projects/numafinance/.venv/lib/python3.7/site-packages/requests/sessions.py\u001b[0m in \u001b[0;36msend\u001b[0;34m(self, request, **kwargs)\u001b[0m\n\u001b[1;32m    653\u001b[0m \u001b[0;34m\u001b[0m\u001b[0m\n\u001b[1;32m    654\u001b[0m         \u001b[0;31m# Send the request\u001b[0m\u001b[0;34m\u001b[0m\u001b[0;34m\u001b[0m\u001b[0;34m\u001b[0m\u001b[0m\n\u001b[0;32m--> 655\u001b[0;31m         \u001b[0mr\u001b[0m \u001b[0;34m=\u001b[0m \u001b[0madapter\u001b[0m\u001b[0;34m.\u001b[0m\u001b[0msend\u001b[0m\u001b[0;34m(\u001b[0m\u001b[0mrequest\u001b[0m\u001b[0;34m,\u001b[0m \u001b[0;34m**\u001b[0m\u001b[0mkwargs\u001b[0m\u001b[0;34m)\u001b[0m\u001b[0;34m\u001b[0m\u001b[0;34m\u001b[0m\u001b[0m\n\u001b[0m\u001b[1;32m    656\u001b[0m \u001b[0;34m\u001b[0m\u001b[0m\n\u001b[1;32m    657\u001b[0m         \u001b[0;31m# Total elapsed time of the request (approximately)\u001b[0m\u001b[0;34m\u001b[0m\u001b[0;34m\u001b[0m\u001b[0;34m\u001b[0m\u001b[0m\n",
      "\u001b[0;32m~/projects/numafinance/.venv/lib/python3.7/site-packages/requests/adapters.py\u001b[0m in \u001b[0;36msend\u001b[0;34m(self, request, stream, timeout, verify, cert, proxies)\u001b[0m\n\u001b[1;32m    514\u001b[0m                 \u001b[0;32mraise\u001b[0m \u001b[0mSSLError\u001b[0m\u001b[0;34m(\u001b[0m\u001b[0me\u001b[0m\u001b[0;34m,\u001b[0m \u001b[0mrequest\u001b[0m\u001b[0;34m=\u001b[0m\u001b[0mrequest\u001b[0m\u001b[0;34m)\u001b[0m\u001b[0;34m\u001b[0m\u001b[0;34m\u001b[0m\u001b[0m\n\u001b[1;32m    515\u001b[0m \u001b[0;34m\u001b[0m\u001b[0m\n\u001b[0;32m--> 516\u001b[0;31m             \u001b[0;32mraise\u001b[0m \u001b[0mConnectionError\u001b[0m\u001b[0;34m(\u001b[0m\u001b[0me\u001b[0m\u001b[0;34m,\u001b[0m \u001b[0mrequest\u001b[0m\u001b[0;34m=\u001b[0m\u001b[0mrequest\u001b[0m\u001b[0;34m)\u001b[0m\u001b[0;34m\u001b[0m\u001b[0;34m\u001b[0m\u001b[0m\n\u001b[0m\u001b[1;32m    517\u001b[0m \u001b[0;34m\u001b[0m\u001b[0m\n\u001b[1;32m    518\u001b[0m         \u001b[0;32mexcept\u001b[0m \u001b[0mClosedPoolError\u001b[0m \u001b[0;32mas\u001b[0m \u001b[0me\u001b[0m\u001b[0;34m:\u001b[0m\u001b[0;34m\u001b[0m\u001b[0;34m\u001b[0m\u001b[0m\n",
      "\u001b[0;31mConnectionError\u001b[0m: HTTPSConnectionPool(host='query1.finance.yahoo.com', port=443): Max retries exceeded with url: /v8/finance/chart/8001.T?period1=-2208988800&period2=1609081559&interval=1d&includePrePost=False&events=div%2Csplits (Caused by NewConnectionError('<urllib3.connection.HTTPSConnection object at 0x11c92cdd0>: Failed to establish a new connection: [Errno 65] No route to host'))"
     ]
    }
   ],
   "source": [
    "# core30をyfinance用に文字列加工する\n",
    "data = pd.read_csv('data/toushou/code_core30.csv')\n",
    "# print(data)\n",
    "stocks = [str(s)+\".T\" for s in data.code]\n",
    "stocks.append(\"^N225\")\n",
    "tickers = yf.Tickers(\" \".join(stocks))\n",
    "\n",
    "closes   = [] # 終値\n",
    "\n",
    "for i in range(len(tickers.tickers)):\n",
    "    closes.append(tickers.tickers[i].history(period=\"max\").Close)\n",
    "\n",
    "closes = pd.DataFrame(closes).T   # DataFrame化\n",
    "closes.columns = stocks           # カラム名の設定\n",
    "closes = closes.ffill()           # 欠損データの補完\n",
    "\n",
    "print(closes)"
   ]
  },
  {
   "cell_type": "code",
   "execution_count": 4,
   "metadata": {},
   "outputs": [
    {
     "output_type": "error",
     "ename": "TypeError",
     "evalue": "list indices must be integers or slices, not str",
     "traceback": [
      "\u001b[0;31m---------------------------------------------------------------------------\u001b[0m",
      "\u001b[0;31mTypeError\u001b[0m                                 Traceback (most recent call last)",
      "\u001b[0;32m<ipython-input-4-6708c83ec832>\u001b[0m in \u001b[0;36m<module>\u001b[0;34m\u001b[0m\n\u001b[1;32m      1\u001b[0m \u001b[0;31m# とりあえず日立製作所を表示してみた\u001b[0m\u001b[0;34m\u001b[0m\u001b[0;34m\u001b[0m\u001b[0;34m\u001b[0m\u001b[0m\n\u001b[0;32m----> 2\u001b[0;31m \u001b[0mcloses\u001b[0m\u001b[0;34m[\u001b[0m\u001b[0;34m'6501.T'\u001b[0m\u001b[0;34m]\u001b[0m\u001b[0;34m.\u001b[0m\u001b[0mplot\u001b[0m\u001b[0;34m(\u001b[0m\u001b[0;34m)\u001b[0m\u001b[0;34m\u001b[0m\u001b[0;34m\u001b[0m\u001b[0m\n\u001b[0m",
      "\u001b[0;31mTypeError\u001b[0m: list indices must be integers or slices, not str"
     ]
    }
   ],
   "source": [
    "# とりあえず日立製作所を表示してみた\n",
    "closes['6501.T'].plot()"
   ]
  },
  {
   "cell_type": "code",
   "execution_count": 5,
   "metadata": {},
   "outputs": [],
   "source": [
    "# 日立製作所に限って分析していってみよう\n",
    "ticker = yf.Ticker('6501.T')\n"
   ]
  },
  {
   "cell_type": "code",
   "execution_count": null,
   "metadata": {},
   "outputs": [],
   "source": [
    "close = ticker.history(period=\"max\").Close\n",
    "print(close)"
   ]
  },
  {
   "cell_type": "code",
   "execution_count": 6,
   "metadata": {},
   "outputs": [
    {
     "output_type": "stream",
     "name": "stdout",
     "text": [
      "\n2020-03-31     87596000000.0\n2019-03-31    222546000000.0\n2018-03-31    362988000000.0\n2017-03-31    231261000000.0\nName: Net Income, dtype: object\n"
     ]
    }
   ],
   "source": [
    "# 当期純利益\n",
    "earning = ticker.financials.T[\"Net Income\"]\n",
    "print(earning)\n"
   ]
  },
  {
   "cell_type": "code",
   "execution_count": 7,
   "metadata": {},
   "outputs": [
    {
     "output_type": "stream",
     "name": "stdout",
     "text": [
      "\n2020-03-31    3.159986e+12\n2019-03-31    3.262603e+12\n2018-03-31    3.278024e+12\n2017-03-31    2.967085e+12\nName: Total Stockholder Equity, dtype: float64\n"
     ]
    }
   ],
   "source": [
    "# 自己資本\n",
    "equity = ticker.balance_sheet.T[\"Total Stockholder Equity\"]\n",
    "print(equity)"
   ]
  },
  {
   "cell_type": "code",
   "execution_count": 8,
   "metadata": {},
   "outputs": [
    {
     "output_type": "stream",
     "name": "stdout",
     "text": [
      "966835008\n"
     ]
    }
   ],
   "source": [
    "# 発行株数\n",
    "share = ticker.info[\"sharesOutstanding\"]\n",
    "print(share)"
   ]
  },
  {
   "cell_type": "code",
   "execution_count": 9,
   "metadata": {},
   "outputs": [
    {
     "output_type": "stream",
     "name": "stdout",
     "text": [
      "\n2020-03-31     90.600774\n2019-03-31    230.179915\n2018-03-31    375.439446\n2017-03-31    239.193863\nName: Net Income, dtype: object\n\n2020-03-31    0.027720\n2019-03-31    0.068211\n2018-03-31    0.110734\n2017-03-31    0.077942\ndtype: object\n"
     ]
    }
   ],
   "source": [
    "eps = earning/share # EPS\n",
    "roe = earning/equity # ROE\n",
    "print(eps)\n",
    "print(roe)"
   ]
  },
  {
   "cell_type": "code",
   "execution_count": 10,
   "metadata": {},
   "outputs": [
    {
     "output_type": "execute_result",
     "data": {
      "text/plain": [
       "{'zip': '100-8280',\n",
       " 'sector': 'Industrials',\n",
       " 'fullTimeEmployees': 301056,\n",
       " 'longBusinessSummary': 'Hitachi, Ltd. provides information technology, energy, industry, mobility, and smart life solutions in Japan and internationally. The company offers systems integration, consulting, and cloud services, as well as servers, storage products, software, telecommunications and network equipment, and ATMs; industrial machinery and plants, elevators, escalators, and railway systems; thermal, nuclear, and renewable energy power generation systems; and transmission and distribution systems. It also provides semiconductor processing equipment, test and measurement equipment, industrial products, and medical electronics equipment; and semiconductor and display related materials, circuit boards and materials, automotive parts, energy storage devices, specialty steel products, magnetic materials and applications, and functional components and equipment, as well as wires, cables, and related products. In addition, the company offers hydraulic excavators, wheel loaders, and mining machinery; and engine and electric powertrain systems, and integrated vehicle control systems. Further, it provides air-conditioning equipment, room air conditioners, refrigerators, and washing machines. Hitachi, Ltd. has a collaboration with Centre Leon Berard and Renesas Electronics Corporation; and a strategic alliance with Microsoft Corp. to advance digital solutions for the manufacturing and logistics industries in Southeast Asia, North America, and Japan. The company was founded in 1910 and is headquartered in Tokyo, Japan.',\n",
       " 'city': 'Tokyo',\n",
       " 'phone': '81 3 3258 1111',\n",
       " 'country': 'Japan',\n",
       " 'companyOfficers': [],\n",
       " 'website': 'http://www.hitachi.co.jp/',\n",
       " 'maxAge': 1,\n",
       " 'address1': '6-6, Marunouchi 1-chome',\n",
       " 'industry': 'Conglomerates',\n",
       " 'address2': 'Chiyoda-ku',\n",
       " 'previousClose': 4039,\n",
       " 'regularMarketOpen': 4025,\n",
       " 'twoHundredDayAverage': 3648.043,\n",
       " 'trailingAnnualDividendYield': 0.024758603,\n",
       " 'payoutRatio': 0.64169997,\n",
       " 'volume24Hr': None,\n",
       " 'regularMarketDayHigh': 4052,\n",
       " 'navPrice': None,\n",
       " 'averageDailyVolume10Day': 2289828,\n",
       " 'totalAssets': None,\n",
       " 'regularMarketPreviousClose': 4039,\n",
       " 'fiftyDayAverage': 4038.7646,\n",
       " 'trailingAnnualDividendRate': 100,\n",
       " 'open': 4025,\n",
       " 'toCurrency': None,\n",
       " 'averageVolume10days': 2289828,\n",
       " 'expireDate': None,\n",
       " 'yield': None,\n",
       " 'algorithm': None,\n",
       " 'dividendRate': 100,\n",
       " 'exDividendDate': 1601337600,\n",
       " 'beta': 1.222739,\n",
       " 'circulatingSupply': None,\n",
       " 'startDate': None,\n",
       " 'regularMarketDayLow': 4010,\n",
       " 'priceHint': 2,\n",
       " 'currency': 'JPY',\n",
       " 'trailingPE': 26.150873,\n",
       " 'regularMarketVolume': 1269300,\n",
       " 'lastMarket': None,\n",
       " 'maxSupply': None,\n",
       " 'openInterest': None,\n",
       " 'marketCap': 3897311887360,\n",
       " 'volumeAllCurrencies': None,\n",
       " 'strikePrice': None,\n",
       " 'averageVolume': 3176179,\n",
       " 'priceToSalesTrailing12Months': 0.46921685,\n",
       " 'dayLow': 4010,\n",
       " 'ask': 4032,\n",
       " 'ytdReturn': None,\n",
       " 'askSize': 0,\n",
       " 'volume': 1269300,\n",
       " 'fiftyTwoWeekHigh': 4693,\n",
       " 'forwardPE': 8.963355,\n",
       " 'fromCurrency': None,\n",
       " 'fiveYearAvgDividendYield': 2.03,\n",
       " 'fiftyTwoWeekLow': 2524,\n",
       " 'bid': 4027,\n",
       " 'tradeable': False,\n",
       " 'dividendYield': 0.0248,\n",
       " 'bidSize': 0,\n",
       " 'dayHigh': 4052,\n",
       " 'exchange': 'JPX',\n",
       " 'shortName': 'HITACHI',\n",
       " 'longName': 'Hitachi, Ltd.',\n",
       " 'exchangeTimezoneName': 'Asia/Tokyo',\n",
       " 'exchangeTimezoneShortName': 'JST',\n",
       " 'isEsgPopulated': False,\n",
       " 'gmtOffSetMilliseconds': '32400000',\n",
       " 'quoteType': 'EQUITY',\n",
       " 'symbol': '6501.T',\n",
       " 'messageBoardId': 'finmb_142747',\n",
       " 'market': 'jp_market',\n",
       " 'annualHoldingsTurnover': None,\n",
       " 'enterpriseToRevenue': 0.724,\n",
       " 'beta3Year': None,\n",
       " 'profitMargins': 0.01794,\n",
       " 'enterpriseToEbitda': 5.422,\n",
       " '52WeekChange': -0.12862086,\n",
       " 'morningStarRiskRating': None,\n",
       " 'forwardEps': 449.72,\n",
       " 'revenueQuarterlyGrowth': None,\n",
       " 'sharesOutstanding': 966835008,\n",
       " 'fundInceptionDate': None,\n",
       " 'annualReportExpenseRatio': None,\n",
       " 'bookValue': 3015.924,\n",
       " 'sharesShort': None,\n",
       " 'sharesPercentSharesOut': None,\n",
       " 'fundFamily': None,\n",
       " 'lastFiscalYearEnd': 1585612800,\n",
       " 'heldPercentInstitutions': 0.37867,\n",
       " 'netIncomeToCommon': 150724001792,\n",
       " 'trailingEps': 154.144,\n",
       " 'lastDividendValue': 50,\n",
       " 'SandP52WeekChange': 0.14955807,\n",
       " 'priceToBook': 1.336572,\n",
       " 'heldPercentInsiders': 0.042069998,\n",
       " 'nextFiscalYearEnd': 1648684800,\n",
       " 'mostRecentQuarter': 1601424000,\n",
       " 'shortRatio': None,\n",
       " 'sharesShortPreviousMonthDate': None,\n",
       " 'floatShares': 944354246,\n",
       " 'enterpriseValue': 6017501888512,\n",
       " 'threeYearAverageReturn': None,\n",
       " 'lastSplitDate': 1537920000,\n",
       " 'lastSplitFactor': '1:5',\n",
       " 'legalType': None,\n",
       " 'lastDividendDate': 1585526400,\n",
       " 'morningStarOverallRating': None,\n",
       " 'earningsQuarterlyGrowth': -0.601,\n",
       " 'dateShortInterest': None,\n",
       " 'pegRatio': None,\n",
       " 'lastCapGain': None,\n",
       " 'shortPercentOfFloat': None,\n",
       " 'sharesShortPriorMonth': None,\n",
       " 'impliedSharesOutstanding': None,\n",
       " 'category': None,\n",
       " 'fiveYearAverageReturn': None,\n",
       " 'regularMarketPrice': 4025,\n",
       " 'logo_url': 'https://logo.clearbit.com/hitachi.co.jp'}"
      ]
     },
     "metadata": {},
     "execution_count": 10
    }
   ],
   "source": [
    "ticker.info"
   ]
  },
  {
   "cell_type": "code",
   "execution_count": 11,
   "metadata": {},
   "outputs": [
    {
     "output_type": "execute_result",
     "data": {
      "text/plain": [
       "                                             2020-03-31       2019-03-31  \\\n",
       "Research Development                               None             None   \n",
       "Effect Of Accounting Charges                       None             None   \n",
       "Income Before Tax                        180268000000.0   516502000000.0   \n",
       "Minority Interest                       1106753000000.0  1151800000000.0   \n",
       "Net Income                                87596000000.0   222546000000.0   \n",
       "Selling General Administrative          1708485000000.0  1761008000000.0   \n",
       "Gross Profit                            2370368000000.0  2515984000000.0   \n",
       "Ebit                                     661883000000.0   754976000000.0   \n",
       "Operating Income                         661883000000.0   754976000000.0   \n",
       "Other Operating Expenses                           None             None   \n",
       "Interest Expense                         -23984000000.0   -20526000000.0   \n",
       "Extraordinary Items                                None             None   \n",
       "Non Recurring                                      None             None   \n",
       "Other Items                                        None             None   \n",
       "Income Tax Expense                        51246000000.0   186344000000.0   \n",
       "Total Revenue                           8767263000000.0  9480619000000.0   \n",
       "Total Operating Expenses                8105380000000.0  8725643000000.0   \n",
       "Cost Of Revenue                         6396895000000.0  6964635000000.0   \n",
       "Total Other Income Expense Net          -481615000000.0  -238474000000.0   \n",
       "Discontinued Operations                   -1776000000.0    -9136000000.0   \n",
       "Net Income From Continuing Ops           129022000000.0   330158000000.0   \n",
       "Net Income Applicable To Common Shares    87596000000.0   222546000000.0   \n",
       "\n",
       "                                             2018-03-31       2017-03-31  \n",
       "Research Development                               None             None  \n",
       "Effect Of Accounting Charges                       None             None  \n",
       "Income Before Tax                        638646000000.0   469091000000.0  \n",
       "Minority Interest                       1233647000000.0  1129910000000.0  \n",
       "Net Income                               362988000000.0   231261000000.0  \n",
       "Selling General Administrative          1787462000000.0  1792278000000.0  \n",
       "Gross Profit                            2502092000000.0  2379587000000.0  \n",
       "Ebit                                     714630000000.0   587309000000.0  \n",
       "Operating Income                         714630000000.0   587309000000.0  \n",
       "Other Operating Expenses                           None             None  \n",
       "Interest Expense                         -20539000000.0   -19014000000.0  \n",
       "Extraordinary Items                                None             None  \n",
       "Non Recurring                                      None             None  \n",
       "Other Items                                        None             None  \n",
       "Income Tax Expense                       131708000000.0   125112000000.0  \n",
       "Total Revenue                           9368614000000.0  9162264000000.0  \n",
       "Total Operating Expenses                8653984000000.0  8574955000000.0  \n",
       "Cost Of Revenue                         6866522000000.0  6782677000000.0  \n",
       "Total Other Income Expense Net           -75984000000.0  -118218000000.0  \n",
       "Discontinued Operations                  -16020000000.0    -5950000000.0  \n",
       "Net Income From Continuing Ops           506938000000.0   343979000000.0  \n",
       "Net Income Applicable To Common Shares   362988000000.0   231261000000.0  "
      ],
      "text/html": "<div>\n<style scoped>\n    .dataframe tbody tr th:only-of-type {\n        vertical-align: middle;\n    }\n\n    .dataframe tbody tr th {\n        vertical-align: top;\n    }\n\n    .dataframe thead th {\n        text-align: right;\n    }\n</style>\n<table border=\"1\" class=\"dataframe\">\n  <thead>\n    <tr style=\"text-align: right;\">\n      <th></th>\n      <th>2020-03-31</th>\n      <th>2019-03-31</th>\n      <th>2018-03-31</th>\n      <th>2017-03-31</th>\n    </tr>\n  </thead>\n  <tbody>\n    <tr>\n      <th>Research Development</th>\n      <td>None</td>\n      <td>None</td>\n      <td>None</td>\n      <td>None</td>\n    </tr>\n    <tr>\n      <th>Effect Of Accounting Charges</th>\n      <td>None</td>\n      <td>None</td>\n      <td>None</td>\n      <td>None</td>\n    </tr>\n    <tr>\n      <th>Income Before Tax</th>\n      <td>180268000000.0</td>\n      <td>516502000000.0</td>\n      <td>638646000000.0</td>\n      <td>469091000000.0</td>\n    </tr>\n    <tr>\n      <th>Minority Interest</th>\n      <td>1106753000000.0</td>\n      <td>1151800000000.0</td>\n      <td>1233647000000.0</td>\n      <td>1129910000000.0</td>\n    </tr>\n    <tr>\n      <th>Net Income</th>\n      <td>87596000000.0</td>\n      <td>222546000000.0</td>\n      <td>362988000000.0</td>\n      <td>231261000000.0</td>\n    </tr>\n    <tr>\n      <th>Selling General Administrative</th>\n      <td>1708485000000.0</td>\n      <td>1761008000000.0</td>\n      <td>1787462000000.0</td>\n      <td>1792278000000.0</td>\n    </tr>\n    <tr>\n      <th>Gross Profit</th>\n      <td>2370368000000.0</td>\n      <td>2515984000000.0</td>\n      <td>2502092000000.0</td>\n      <td>2379587000000.0</td>\n    </tr>\n    <tr>\n      <th>Ebit</th>\n      <td>661883000000.0</td>\n      <td>754976000000.0</td>\n      <td>714630000000.0</td>\n      <td>587309000000.0</td>\n    </tr>\n    <tr>\n      <th>Operating Income</th>\n      <td>661883000000.0</td>\n      <td>754976000000.0</td>\n      <td>714630000000.0</td>\n      <td>587309000000.0</td>\n    </tr>\n    <tr>\n      <th>Other Operating Expenses</th>\n      <td>None</td>\n      <td>None</td>\n      <td>None</td>\n      <td>None</td>\n    </tr>\n    <tr>\n      <th>Interest Expense</th>\n      <td>-23984000000.0</td>\n      <td>-20526000000.0</td>\n      <td>-20539000000.0</td>\n      <td>-19014000000.0</td>\n    </tr>\n    <tr>\n      <th>Extraordinary Items</th>\n      <td>None</td>\n      <td>None</td>\n      <td>None</td>\n      <td>None</td>\n    </tr>\n    <tr>\n      <th>Non Recurring</th>\n      <td>None</td>\n      <td>None</td>\n      <td>None</td>\n      <td>None</td>\n    </tr>\n    <tr>\n      <th>Other Items</th>\n      <td>None</td>\n      <td>None</td>\n      <td>None</td>\n      <td>None</td>\n    </tr>\n    <tr>\n      <th>Income Tax Expense</th>\n      <td>51246000000.0</td>\n      <td>186344000000.0</td>\n      <td>131708000000.0</td>\n      <td>125112000000.0</td>\n    </tr>\n    <tr>\n      <th>Total Revenue</th>\n      <td>8767263000000.0</td>\n      <td>9480619000000.0</td>\n      <td>9368614000000.0</td>\n      <td>9162264000000.0</td>\n    </tr>\n    <tr>\n      <th>Total Operating Expenses</th>\n      <td>8105380000000.0</td>\n      <td>8725643000000.0</td>\n      <td>8653984000000.0</td>\n      <td>8574955000000.0</td>\n    </tr>\n    <tr>\n      <th>Cost Of Revenue</th>\n      <td>6396895000000.0</td>\n      <td>6964635000000.0</td>\n      <td>6866522000000.0</td>\n      <td>6782677000000.0</td>\n    </tr>\n    <tr>\n      <th>Total Other Income Expense Net</th>\n      <td>-481615000000.0</td>\n      <td>-238474000000.0</td>\n      <td>-75984000000.0</td>\n      <td>-118218000000.0</td>\n    </tr>\n    <tr>\n      <th>Discontinued Operations</th>\n      <td>-1776000000.0</td>\n      <td>-9136000000.0</td>\n      <td>-16020000000.0</td>\n      <td>-5950000000.0</td>\n    </tr>\n    <tr>\n      <th>Net Income From Continuing Ops</th>\n      <td>129022000000.0</td>\n      <td>330158000000.0</td>\n      <td>506938000000.0</td>\n      <td>343979000000.0</td>\n    </tr>\n    <tr>\n      <th>Net Income Applicable To Common Shares</th>\n      <td>87596000000.0</td>\n      <td>222546000000.0</td>\n      <td>362988000000.0</td>\n      <td>231261000000.0</td>\n    </tr>\n  </tbody>\n</table>\n</div>"
     },
     "metadata": {},
     "execution_count": 11
    }
   ],
   "source": [
    "ticker.financials"
   ]
  },
  {
   "cell_type": "code",
   "execution_count": null,
   "metadata": {},
   "outputs": [],
   "source": []
  }
 ]
}